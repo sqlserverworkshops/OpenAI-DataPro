{
 "cells": [
  {
   "cell_type": "markdown",
   "metadata": {},
   "source": [
    "![](../../graphics/microsoftlogo.png)\n",
    "\n",
    "# Workshop: Unlocking AI Potential for the Data Professional - Azure OpenAI\n",
    "\n",
    "#### <i>A Microsoft Course from Microsoft Engineering and the FastTrack Team</i>\n",
    "\n",
    "<p style=\"border-bottom: 1px solid lightgrey;\"></p>\n",
    "\n",
    "<img style=\"float: left; margin: 0px 15px 15px 0px;\" src=\"https://raw.githubusercontent.com/microsoft/sqlworkshops/master/graphics/textbubble.png\"> <h2>Course Notebook: Module 3</h2>\n",
    "\n",
    "Welcome to this Microsoft solutions workshop on [*Unlocking AI Potential for the Data Professional with Azure OpenAI*](https://github.com/sqlserverworkshops/OpenAI-DataPro/tree/main). In this Notebook, you'll apply the concepts you learned in this Module.\n",
    "\n",
    "This Notebook contains recipes for some common applications of Azure OpenAI, Prompts and Completions and some Prompt Engineering Techniques."
   ]
  },
  {
   "cell_type": "markdown",
   "metadata": {},
   "source": [
    "# 3.1 Create Azure OpenAI Environment\n",
    "\n",
    "## Azure \n",
    "\n",
    "This notebook contains the script to create the necessary Azure environment to run the provided samples. The notebook uses [PowerShell](https://learn.microsoft.com/powershell/scripting/install/installing-powershell?view=powershell-7.3) and [Azure CLI](https://learn.microsoft.com/cli/azure/install-azure-cli) to deploy all necessary Azure resources. Both tools are available on Windows, macOS and Linux environments.\n",
    "\n",
    "## Configuration\n",
    "\n",
    "This notebook performs two tasks:\n",
    "\n",
    "- Deployment of necessary Azure Services (Azure OpenAI, Azure Cognitive Search) to run samples\n",
    "- Store all necessary service endpoints, service API keys, Azure OpenAI deployment names in a centralized file (../01_DemoEnvironment/conf/application.env). This file is used by all notebooks in this repo to connect and authenticate against the deployed Azure services.\n",
    "\n",
    "If you already have instances of Azure OpenAI and Azure Cognitive Search running you can rename the [configuration template](../conf/application.env.example) to `application.env` and provide endpoint, API key and deployment names of a chat completion and an embedding model. We suggest to run the notebook to start a clean environment."
   ]
  },
  {
   "cell_type": "markdown",
   "metadata": {},
   "source": [
    "## Step 1:   Login to Azure; Get, Set subscription"
   ]
  },
  {
   "cell_type": "code",
   "execution_count": null,
   "metadata": {
    "dotnet_interactive": {
     "language": "pwsh"
    },
    "polyglot_notebook": {
     "kernelName": "pwsh"
    },
    "vscode": {
     "languageId": "polyglot-notebook"
    }
   },
   "outputs": [],
   "source": [
    "# Check if you are already logged in\n",
    "$loggedIn = az account show --query \"name\" -o tsv\n",
    "\n",
    "if ($null -ne $loggedIn) {\n",
    "    Write-Host \"Already logged in as $loggedIn\"\n",
    "} else {\n",
    "    Write-Host \"Logging in...\"\n",
    "    az login\n",
    "}\n",
    "# Retrieve default subscription id\n",
    "$subscriptionId = (\n",
    "    (\n",
    "        az account list -o json `\n",
    "            --query \"[?isDefault]\"\n",
    "    ) | ConvertFrom-Json\n",
    ").id\n",
    "\n",
    "# Set Subscription\n",
    "az account set --subscription $subscriptionId\n",
    "Write-Host \"Subscription set to $subscriptionId\""
   ]
  },
  {
   "cell_type": "markdown",
   "metadata": {},
   "source": [
    "Expected output:\n",
    "\n",
    "If you're already logged in:\n",
    "```\n",
    "    Already logged in as xxxxx\n",
    "    Subscription set to xxxxxxxx-xxxx-xxxx-xxxx-xxxxxxxxxxxx\n",
    "```\n",
    "If you aren't logged in a browser window will pop-up which allows you to log in\n",
    "```\n",
    "    Logging in...\n",
    "    Subscription set to xxxxxxxx-xxxx-xxxx-xxxx-xxxxxxxxxxxx\n",
    "```"
   ]
  },
  {
   "cell_type": "markdown",
   "metadata": {},
   "source": [
    "## Step 2:   Define project unifier\n",
    "\n",
    "The project unifier is used to allow multiple deployments of services which have a need for a unique custom endpoint."
   ]
  },
  {
   "cell_type": "code",
   "execution_count": null,
   "metadata": {
    "dotnet_interactive": {
     "language": "pwsh"
    },
    "polyglot_notebook": {
     "kernelName": "pwsh"
    },
    "vscode": {
     "languageId": "polyglot-notebook"
    }
   },
   "outputs": [],
   "source": [
    "$random = Get-Random -Minimum 100 -Maximum 999\n",
    "\n",
    "Write-Host \"Unifier set to: $random\""
   ]
  },
  {
   "cell_type": "markdown",
   "metadata": {},
   "source": [
    "Expected output:\n",
    "\n",
    "```\n",
    "Unifier set to: xxx\n",
    "```"
   ]
  },
  {
   "cell_type": "markdown",
   "metadata": {},
   "source": [
    "## Step 3:   Create Resource Group\n",
    "\n",
    "In this sample all resources are deployed to `eastus`. Feel free to change to your preferred location."
   ]
  },
  {
   "cell_type": "code",
   "execution_count": null,
   "metadata": {
    "dotnet_interactive": {
     "language": "pwsh"
    },
    "polyglot_notebook": {
     "kernelName": "pwsh"
    },
    "vscode": {
     "languageId": "polyglot-notebook"
    }
   },
   "outputs": [],
   "source": [
    "$resourceGroup = \"OpenAI-DataPro-RG\"\n",
    "$location = \"eastus\"\n",
    "\n",
    "az group create `\n",
    "    --location $location `\n",
    "    --resource-group $resourceGroup"
   ]
  },
  {
   "cell_type": "markdown",
   "metadata": {},
   "source": [
    "Expected output: \n",
    "\n",
    " `JSON string describing the newly created resource group`"
   ]
  },
  {
   "cell_type": "markdown",
   "metadata": {},
   "source": [
    "## Step 4:   Create Azure OpenAI instance\n",
    "\n",
    "An instance of Azure Cognitive Service with the kind `OpenAI` will be created. The `endpoint` and `API key` of the newly created instance are retrieved for later storage in the `application.env` file."
   ]
  },
  {
   "cell_type": "code",
   "execution_count": null,
   "metadata": {
    "dotnet_interactive": {
     "language": "pwsh"
    },
    "polyglot_notebook": {
     "kernelName": "pwsh"
    },
    "vscode": {
     "languageId": "polyglot-notebook"
    }
   },
   "outputs": [],
   "source": [
    "$csOpenAIName = \"aiservices$random\"\n",
    "\n",
    "az cognitiveservices account create `\n",
    "    --name $csOpenAIName `\n",
    "    --resource-group $resourceGroup `\n",
    "    --location $location `\n",
    "    --kind OpenAI `\n",
    "    --sku S0 `\n",
    "    --yes\n",
    "\n",
    "$csOpenAIEndpoint = ( `\n",
    "    az cognitiveservices account show `\n",
    "        --name $csOpenAIName `\n",
    "        --resource-group $resourceGroup `\n",
    "        --query properties.endpoint `\n",
    "        --output tsv `\n",
    ")\n",
    "\n",
    "$csOpenAIApiKey = (\n",
    "    az cognitiveservices account keys list `\n",
    "        --name $csOpenAIName `\n",
    "        --resource-group $resourceGroup `\n",
    "        --query key1 `\n",
    "        --output tsv `\n",
    ")"
   ]
  },
  {
   "cell_type": "markdown",
   "metadata": {},
   "source": [
    "Expected output: \n",
    "\n",
    " `JSON string describing the newly created Azure OpenAI instance`"
   ]
  },
  {
   "cell_type": "markdown",
   "metadata": {},
   "source": [
    "## Step 5:   Deploy Azure OpenAI models\n",
    "\n",
    "Two LLM models are deployed to the newly created Azure Cognitive Service instance: \n",
    "\n",
    "- A chat completion model. In the sample we're deploying `gpt-35-turbo`. This can be replaced with other models providing a chat completion interface like `gpt-4`.\n",
    "- A text embedding model. In the sample we're deploying `text-embedding-ada-002`. Any other text embedding model can be deployed as well."
   ]
  },
  {
   "cell_type": "code",
   "execution_count": null,
   "metadata": {
    "dotnet_interactive": {
     "language": "pwsh"
    },
    "polyglot_notebook": {
     "kernelName": "pwsh"
    },
    "vscode": {
     "languageId": "polyglot-notebook"
    }
   },
   "outputs": [],
   "source": [
    "# Chat Completion Model\n",
    "$modelChatCompletionDeploymentName = \"gpt-35-turbo\"\n",
    "$modelName = \"gpt-35-turbo\"\n",
    "$modelVersion = \"0301\"\n",
    "$modelFormat = \"OpenAI\"\n",
    "$scaleType = \"Standard\"\n",
    "\n",
    "az cognitiveservices account deployment create `\n",
    "   --resource-group $resourceGroup `\n",
    "   --name $csOpenAIName `\n",
    "   --deployment-name $modelChatCompletionDeploymentName `\n",
    "   --model-name $modelName `\n",
    "   --model-version $modelVersion `\n",
    "   --model-format $modelFormat `\n",
    "   --sku-name $scaleType `\n",
    "   --sku-capacity 1"
   ]
  },
  {
   "cell_type": "code",
   "execution_count": null,
   "metadata": {
    "dotnet_interactive": {
     "language": "pwsh"
    },
    "polyglot_notebook": {
     "kernelName": "pwsh"
    },
    "vscode": {
     "languageId": "polyglot-notebook"
    }
   },
   "outputs": [],
   "source": [
    "# Text Embedding Model\n",
    "$modelEmbeddingDeploymentName = \"text-embedding-ada-002\"\n",
    "$modelName = \"text-embedding-ada-002\"\n",
    "$modelVersion = \"2\"\n",
    "$scaleType = \"Standard\"\n",
    "\n",
    "az cognitiveservices account deployment create `\n",
    "   --resource-group $resourceGroup `\n",
    "   --name $csOpenAIName `\n",
    "   --deployment-name $modelEmbeddingDeploymentName `\n",
    "   --model-name $modelName `\n",
    "   --model-version $modelVersion `\n",
    "   --model-format $modelFormat `\n",
    "   --sku-name $scaleType `\n",
    "   --sku-capacity 1"
   ]
  },
  {
   "cell_type": "code",
   "execution_count": null,
   "metadata": {
    "dotnet_interactive": {
     "language": "pwsh"
    },
    "polyglot_notebook": {
     "kernelName": "pwsh"
    },
    "vscode": {
     "languageId": "polyglot-notebook"
    }
   },
   "outputs": [],
   "source": [
    "# GPT-4 Vision Model\n",
    "$modelVisionDeploymentName = \"gpt-4-vision\"\n",
    "$modelName = \"gpt-4\"\n",
    "$modelVersion = \"vision-preview\"\n",
    "$scaleType = \"Standard\"\n",
    "\n",
    "az cognitiveservices account deployment create `\n",
    "   --resource-group $resourceGroup `\n",
    "   --name $csOpenAIName `\n",
    "   --deployment-name $modelVisionDeploymentName `\n",
    "   --model-name $modelName `\n",
    "   --model-version $modelVersion `\n",
    "   --model-format $modelFormat `\n",
    "   --sku-name $scaleType `\n",
    "   --sku-capacity 1"
   ]
  },
  {
   "cell_type": "markdown",
   "metadata": {},
   "source": [
    "Expected output: \n",
    "\n",
    " `JSON string describing the newly deployed models`"
   ]
  },
  {
   "cell_type": "markdown",
   "metadata": {},
   "source": [
    "## Step 6:   Create Azure Cognitive Search\n",
    "\n",
    "Azure Cognitive Search is deployed to use its [vector DB functionalities](https://learn.microsoft.com/en-us/azure/search/vector-search-overview). Just like with Azure OpenAI Cognitive Service, the `endpoint` and `API key` of the newly created instance are retrieved for later storage in the `application.env` file."
   ]
  },
  {
   "cell_type": "code",
   "execution_count": null,
   "metadata": {
    "dotnet_interactive": {
     "language": "pwsh"
    },
    "polyglot_notebook": {
     "kernelName": "pwsh"
    },
    "vscode": {
     "languageId": "polyglot-notebook"
    }
   },
   "outputs": [],
   "source": [
    "$csSearchName = \"aisearch$random\"\n",
    "$csSearchSku = \"standard\"\n",
    "\n",
    "az search service create `\n",
    "    --name $csSearchName `\n",
    "    --resource-group $resourceGroup `\n",
    "    --location $location `\n",
    "    --sku $csSearchSku\n",
    "\n",
    "$csSearchEndpoint = \"https://$csSearchName.search.windows.net\"\n",
    "\n",
    "$csSearchApiKey = ( `\n",
    "    az search admin-key show `\n",
    "        --resource-group $resourceGroup `\n",
    "        --service-name $csSearchName `\n",
    "        --query primaryKey `\n",
    "        --output tsv `\n",
    ")"
   ]
  },
  {
   "cell_type": "markdown",
   "metadata": {},
   "source": [
    "Expected output: \n",
    "\n",
    " `JSON string describing the newly created cognitive search resource`"
   ]
  },
  {
   "cell_type": "markdown",
   "metadata": {},
   "source": [
    "## Step 7:   Create Azure Storage account\n",
    "\n",
    "Azure Storage is deployed to store data that can be used to generate indexes in Azure Cognitive Search."
   ]
  },
  {
   "cell_type": "code",
   "execution_count": null,
   "metadata": {
    "dotnet_interactive": {
     "language": "pwsh"
    },
    "polyglot_notebook": {
     "kernelName": "pwsh"
    },
    "vscode": {
     "languageId": "polyglot-notebook"
    }
   },
   "outputs": [],
   "source": [
    "$stgName = \"aistg$random\"\n",
    "$stgSku = \"Standard_LRS\"\n",
    "\n",
    "az storage account create `\n",
    "    --name $stgName `\n",
    "    --resource-group $resourceGroup `\n",
    "    --location $location `\n",
    "    --sku $stgSku `\n",
    "    --kind StorageV2 `\n",
    "    --https-only true `\n",
    "    --access-tier Hot\n",
    "\n",
    "$stgConnectionString = ( `\n",
    "    az storage account show-connection-string `\n",
    "        --name $stgName `\n",
    "        --resource-group $resourceGroup `\n",
    "        --query connectionString `\n",
    "        --output tsv `\n",
    ")"
   ]
  },
  {
   "cell_type": "markdown",
   "metadata": {},
   "source": [
    "Expected output: \n",
    "\n",
    "`JSON string describing the newly created storage account`"
   ]
  },
  {
   "cell_type": "markdown",
   "metadata": {},
   "source": [
    "## Step 8: Set environment variables & create application.env file"
   ]
  },
  {
   "cell_type": "code",
   "execution_count": null,
   "metadata": {
    "dotnet_interactive": {
     "language": "pwsh"
    },
    "polyglot_notebook": {
     "kernelName": "pwsh"
    },
    "vscode": {
     "languageId": "polyglot-notebook"
    }
   },
   "outputs": [],
   "source": [
    "# Set environment variables\n",
    "$ENV:AOAI_APIKEY = $csOpenAIApiKey\n",
    "$ENV:AOAI_ENDPOINT = $csOpenAIEndpoint\n",
    "$ENV:CHATCOMPLETION_DEPLOYMENTNAME = $modelChatCompletionDeploymentName\n",
    "$ENV:EMBEDDINGDEPLOYMENTNAME = $modelEmbeddingDeploymentName\n",
    "$ENV:SEARCH_ENDPOINT = \"https://$csSearchEndpoint/\"\n",
    "$ENV:SEARCH_APIKEY = $csSearchApiKey\n",
    "$ENV:ASSET_FOLDER = \"../../../../assets\"\n",
    "$ENV:AOAI0301_APIKEY = $csOpenAIApiKey\n",
    "$ENV:AOAI0301ENDPOINT = $csOpenAIEndpoint\n",
    "$ENV:AOAI0301_DEPLOYMENTNAME = $modelChatCompletionDeploymentName\n",
    "$ENV:AOAIVISION_APIKEY = $csOpenAIApiKey\n",
    "$ENV:AOAIVISION_ENDPOINT = $csOpenAIEndpoint\n",
    "$ENV:AOAIVISION_DEPLOYMENTNAME = $modelVisionDeploymentName\n",
    "$ENV:STORAGE_CONNECTIONSTRING = $stgConnectionString\n",
    "Write-Host \"Environment variables set!\"\n",
    "\n",
    "$configurationFile = \".env\"\n",
    "\n",
    "function Set-ConfigurationFileVariable($configurationFile, $variableName, $variableValue) {\n",
    "    if (Select-String -Path $configurationFile -Pattern $variableName) {\n",
    "        (Get-Content $configurationFile) | Foreach-Object {\n",
    "            $_ -replace \"$variableName = .*\", \"$variableName = $variableValue\"\n",
    "        } | Set-Content $configurationFile\n",
    "    } else {\n",
    "        Add-Content -Path $configurationFile -value \"$variableName = $variableValue\"\n",
    "    }\n",
    "}\n",
    "\n",
    "Set-ConfigurationFileVariable $configurationFile \"AOAI_APIKEY\" $csOpenAIApiKey\n",
    "Set-ConfigurationFileVariable $configurationFile \"AOAI_ENDPOINT\" $csOpenAIEndpoint\n",
    "Set-ConfigurationFileVariable $configurationFile \"CHATCOMPLETION_DEPLOYMENTNAME\" $modelChatCompletionDeploymentName\n",
    "Set-ConfigurationFileVariable $configurationFile \"EMBEDDING_DEPLOYMENTNAME\" $modelEmbeddingDeploymentName\n",
    "Set-ConfigurationFileVariable $configurationFile \"SEARCH_ENDPOINT\" $csSearchEndpoint\n",
    "Set-ConfigurationFileVariable $configurationFile \"SEARCH_APIKEY\" $csSearchApiKey\n",
    "Set-ConfigurationFileVariable $configurationFile \"ASSET_FOLDER\" \"../../../../assets\"\n",
    "Set-ConfigurationFileVariable $configurationFile \"AOAI0301_APIKEY\" $csOpenAIApiKey\n",
    "Set-ConfigurationFileVariable $configurationFile \"AOAI0301_ENDPOINT\" $csOpenAIEndpoint\n",
    "Set-ConfigurationFileVariable $configurationFile \"AOAI0301_DEPLOYMENTNAME\" $modelChatCompletionDeploymentName\n",
    "Set-ConfigurationFileVariable $configurationFile \"AOAIVISION_APIKEY\" $csOpenAIApiKey\n",
    "Set-ConfigurationFileVariable $configurationFile \"AOAIVISION_ENDPOINT\" $csOpenAIEndpoint\n",
    "Set-ConfigurationFileVariable $configurationFile \"AOAIVISION_DEPLOYMENTNAME\" $modelVisionDeploymentName\n",
    "Set-ConfigurationFileVariable $configurationFile \"STORAGE_CONNECTIONSTRING\" $stgConnectionString\n",
    "\n",
    "Write-Host \"Configuration file created at: $configurationFile\""
   ]
  },
  {
   "cell_type": "markdown",
   "metadata": {},
   "source": [
    "Expected output:\n",
    "\n",
    "```\n",
    "Environment variables set!\n",
    "Configuration file created at: xxxxxxxxxxxx\n",
    "```"
   ]
  },
  {
   "cell_type": "markdown",
   "metadata": {},
   "source": [
    "## Next Steps\n",
    "\n",
    "Understand the capabilities of the Azure OpenAI REST API by following the [next notebook](../../03_REST_API/Notebook/01_BasicChat.ipynb)."
   ]
  }
 ],
 "metadata": {
  "kernelspec": {
   "display_name": "Python 3",
   "language": "python",
   "name": "python3"
  },
  "language_info": {
   "codemirror_mode": {
    "name": "ipython",
    "version": 3
   },
   "file_extension": ".py",
   "mimetype": "text/x-python",
   "name": "python",
   "nbconvert_exporter": "python",
   "pygments_lexer": "ipython3",
   "version": "3.11.8"
  },
  "polyglot_notebook": {
   "kernelInfo": {
    "defaultKernelName": "csharp",
    "items": [
     {
      "aliases": [],
      "languageName": "csharp",
      "name": "csharp"
     }
    ]
   }
  }
 },
 "nbformat": 4,
 "nbformat_minor": 2
}
