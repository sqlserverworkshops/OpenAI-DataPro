{
 "cells": [
  {
   "cell_type": "markdown",
   "id": "278e7451",
   "metadata": {},
   "source": [
    "<h1 align =\"center\"> Python SDK Sample</h1>\n",
    "<hr>\n",
    "\n",
    "# Chat Completions\n",
    "\n",
    "Chat models take a series of messages as input, and return a model-generated message as output.\n",
    "The main input is the messages parameter. Messages must be an array of message objects, where each object has a role (either \"system\", \"user\", or \"assistant\") and content (the content of the message). "
   ]
  },
  {
   "cell_type": "code",
   "execution_count": null,
   "id": "fb97123e",
   "metadata": {},
   "outputs": [],
   "source": [
    "# if needed, install and/or upgrade to the latest version of the OpenAI Python library\n",
    "%pip install openai"
   ]
  },
  {
   "cell_type": "code",
   "execution_count": null,
   "id": "4645782a",
   "metadata": {},
   "outputs": [],
   "source": [
    "%pip show openai"
   ]
  },
  {
   "cell_type": "code",
   "execution_count": 2,
   "id": "61e7f8fa",
   "metadata": {},
   "outputs": [
    {
     "name": "stdout",
     "output_type": "stream",
     "text": [
      "gpt-4\n"
     ]
    }
   ],
   "source": [
    "import os\n",
    "from openai import AzureOpenAI\n",
    "\n",
    "client = AzureOpenAI(\n",
    "  azure_endpoint = os.getenv(\"AZURE_OPENAI_ENDPOINT\"),\n",
    "  api_key = os.getenv(\"AZURE_OPENAI_KEY\"),  \n",
    "  api_version = \"2023-05-15\"\n",
    ")\n",
    "\n",
    "chatgpt_model_name = os.getenv(\"AZURE_OPENAI_DEPLOYMENT_ID\")\n",
    "print(chatgpt_model_name)\n"
   ]
  },
  {
   "cell_type": "markdown",
   "id": "6d33f92a",
   "metadata": {},
   "source": [
    "### Setup Parameters"
   ]
  },
  {
   "cell_type": "code",
   "execution_count": null,
   "id": "1d67d3b6",
   "metadata": {},
   "outputs": [],
   "source": [
    "# # Load config values\n",
    "# import json\n",
    "\n",
    "# with open(r'config.json') as config_file:\n",
    "#     config_details = json.load(config_file)"
   ]
  },
  {
   "cell_type": "code",
   "execution_count": 4,
   "id": "150a3db0",
   "metadata": {},
   "outputs": [
    {
     "name": "stdout",
     "output_type": "stream",
     "text": [
      "ChatCompletionMessage(content=\"In the realm of code, where logic is the king,\\nThere's a concept called recursion, a curious thing.\\nIt's a function that calls itself, you see,\\nA loop of self-reference, as constant as the sea.\\n\\nA function that looks in a mirror so clear,\\nAnd sees its own reflection, without any fear.\\nIt calls upon itself, again and again,\\nIn the world of programming, it's a powerful friend.\\n\\nImagine a box, within a box, within a box,\\nOr a dream within a dream, that paradox.\\nThat's recursion in essence, a loop within,\\nA spiral staircase, where end and start blend in.\\n\\nIt's like Russian dolls, one inside the other,\\nEach one smaller, yet akin to its mother.\\nOr like the echo in a mountain's heart,\\nRepeating itself, right from the start.\\n\\nBut beware, dear coder, of the infinite loop,\\nWhere recursion has no end, and you're stuck in a hoop.\\nFor each call must have a base, a ground,\\nA condition to stop, else you'll be forever bound.\\n\\nRecursion, a concept, simple and profound,\\nIn the heart of algorithms, it is often found.\\nFrom sorting and searching, to trees and more,\\nIt's a tool in your kit, to help you explore.\\n\\nSo here's to recursion, a toast, a cheer,\\nA concept that can make complexity disappear.\\nIn the world of code, it's a shining star,\\nRecursion, recursion, how beautiful you are!\", role='assistant', function_call=None, tool_calls=None)\n"
     ]
    }
   ],
   "source": [
    "# A sample API call for chat completions looks as follows:\n",
    "# Messages must be an array of message objects, where each object has a role (either \"system\", \"user\", or \"assistant\") and content (the content of the message).\n",
    "# For more info: https://learn.microsoft.com/en-us/azure/cognitive-services/openai/reference#chat-completions\n",
    "import openai\n",
    "try:\n",
    "   \n",
    "\n",
    "    response = client.chat.completions.create(\n",
    "    model=chatgpt_model_name,\n",
    "    messages=[\n",
    "        {\"role\": \"system\", \"content\": \"You are a poetic assistant, skilled in explaining complex programming concepts with creative flair.\"},\n",
    "        {\"role\": \"user\", \"content\": \"Compose a poem that explains the concept of recursion in programming.\"}\n",
    "    ],\n",
    "    temperature=0,\n",
    "    max_tokens=800\n",
    "    )\n",
    "\n",
    "    print(response.choices[0].message)\n",
    "\n",
    " \n",
    "except openai.APIError as e:\n",
    "    # Handle API error here, e.g. retry or log\n",
    "    print(f\"OpenAI API returned an API Error: {e}\")\n",
    "\n",
    "except openai.AuthenticationError as e:\n",
    "    # Handle Authentication error here, e.g. invalid API key\n",
    "    print(f\"OpenAI API returned an Authentication Error: {e}\")\n",
    "\n",
    "except openai.APIConnectionError as e:\n",
    "    # Handle connection error here\n",
    "    print(f\"Failed to connect to OpenAI API: {e}\")\n",
    "\n",
    "except openai.RateLimitError as e:\n",
    "    # Handle rate limit error\n",
    "    print(f\"OpenAI API request exceeded rate limit: {e}\")\n",
    "\n",
    "except openai.APITimeoutError as e:\n",
    "    # Handle request timeout\n",
    "    print(f\"Request timed out: {e}\")\n",
    "    \n",
    "except:\n",
    "    # Handles all other exceptions\n",
    "    print(\"An exception has occured.\")"
   ]
  }
 ],
 "metadata": {
  "kernelspec": {
   "display_name": "Python 3 (ipykernel)",
   "language": "python",
   "name": "python3"
  },
  "language_info": {
   "codemirror_mode": {
    "name": "ipython",
    "version": 3
   },
   "file_extension": ".py",
   "mimetype": "text/x-python",
   "name": "python",
   "nbconvert_exporter": "python",
   "pygments_lexer": "ipython3",
   "version": "3.11.8"
  }
 },
 "nbformat": 4,
 "nbformat_minor": 5
}
