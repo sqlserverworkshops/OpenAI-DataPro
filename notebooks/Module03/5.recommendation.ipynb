{
 "cells": [
  {
   "cell_type": "code",
   "execution_count": 2,
   "metadata": {},
   "outputs": [],
   "source": [
    "import common\n",
    "\n",
    "# Get a configured model\n",
    "client = common.get_openai_client(api_key=common.api_KEY,\n",
    "        api_version=common.api_version,\n",
    "        azure_endpoint=common.api_URI)"
   ]
  },
  {
   "cell_type": "code",
   "execution_count": 6,
   "metadata": {},
   "outputs": [
    {
     "name": "stdout",
     "output_type": "stream",
     "text": [
      "Joe's Stone Crab\n",
      "Versailles\n",
      "Hillstone\n",
      "Casa Tua\n",
      "Cecconi's\n",
      "Yardbird Southern Table & Bar\n",
      "\n",
      "List two top restaurants:\n",
      "{{input}}\n",
      "Out in JSON format.\n",
      "List two top restaurants:\n",
      "Joe's Stone Crab\n",
      "Versailles\n",
      "Hillstone\n",
      "Casa Tua\n",
      "Cecconi's\n",
      "Yardbird Southern Table & Bar\n",
      "\n",
      "Out in JSON format.\n",
      "{\n",
      "  \"restaurants\": [\n",
      "    {\n",
      "      \"name\": \"Joe's Stone Crab\",\n",
      "      \"location\": \"Miami Beach\",\n",
      "      \"cuisine\": \"Seafood\"\n",
      "    },\n",
      "    {\n",
      "      \"name\": \"Versailles\",\n",
      "      \"location\": \"Miami\",\n",
      "      \"cuisine\": \"Cuban\"\n",
      "    },\n",
      "    {\n",
      "      \"name\": \"Hillstone\",\n",
      "      \"location\": \"Coral Gables\",\n",
      "      \"cuisine\": \"American\"\n",
      "    },\n",
      "    {\n",
      "      \"name\": \"Casa Tua\",\n",
      "      \"location\": \"Miami Beach\",\n",
      "      \"cuisine\": \"Italian\"\n",
      "    },\n",
      "    {\n",
      "      \"name\": \"Cecconi's\",\n",
      "      \"location\": \"Miami Beach\",\n",
      "      \"cuisine\": \"Italian\"\n",
      "    },\n",
      "    {\n",
      "      \"name\": \"Yardbird Southern Table & Bar\",\n",
      "      \"location\": \"Miami Beach\",\n",
      "      \"cuisine\": \"Southern\"\n",
      "    }\n",
      "  ]\n",
      "}\n"
     ]
    }
   ],
   "source": [
    "def mock_get_restaurant_list(cityCode) -> list[str]:\n",
    "    if (cityCode == \"MIA\"):\n",
    "        return [\n",
    "            \"Joe's Stone Crab\",\n",
    "            \"Versailles\",\n",
    "            \"Hillstone\",\n",
    "            \"Casa Tua\",\t\n",
    "            \"Cecconi's\",\n",
    "            \"Yardbird Southern Table & Bar\",\n",
    "        ]\n",
    "    return []\n",
    "\n",
    "target_text=\"\"\n",
    "for restaurant in mock_get_restaurant_list(\"MIA\"):\n",
    "    target_text += f\"{restaurant}\\n\"\n",
    "\n",
    "print(target_text)\n",
    "\n",
    "recommendation_template = 'List two top restaurants:\\n{{input}}\\nOut in JSON format.'\n",
    "print(recommendation_template)\n",
    "rendered_template = common.render_template(recommendation_template, input=target_text)\n",
    "print(rendered_template)\n",
    "\n",
    "print(common.Call_OpenAI(client,common.gpt_api_deployment,rendered_template,max_tokens=200))"
   ]
  }
 ],
 "metadata": {
  "kernelspec": {
   "display_name": ".venv",
   "language": "python",
   "name": "python3"
  },
  "language_info": {
   "codemirror_mode": {
    "name": "ipython",
    "version": 3
   },
   "file_extension": ".py",
   "mimetype": "text/x-python",
   "name": "python",
   "nbconvert_exporter": "python",
   "pygments_lexer": "ipython3",
   "version": "3.11.8"
  },
  "orig_nbformat": 4
 },
 "nbformat": 4,
 "nbformat_minor": 2
}
