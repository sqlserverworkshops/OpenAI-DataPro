{
 "cells": [
  {
   "cell_type": "code",
   "execution_count": 1,
   "metadata": {},
   "outputs": [
    {
     "name": "stdout",
     "output_type": "stream",
     "text": [
      "1b4c24b2e6424461975ea0e4ee8a86b2\n",
      "2023-07-01-preview\n",
      "gpt-35-turbo\n"
     ]
    }
   ],
   "source": [
    "import common\n",
    "\n",
    "# Get a configured model\n",
    "# print(common.api_URI) \n",
    "print(common.api_KEY)\n",
    "print(common.api_version)\n",
    "print(common.gpt_api_deployment)\n",
    "\n",
    "client = common.get_openai_client(api_key=common.api_KEY,\n",
    "        api_version=common.api_version,\n",
    "        azure_endpoint=common.api_URI)"
   ]
  },
  {
   "cell_type": "code",
   "execution_count": 2,
   "metadata": {},
   "outputs": [],
   "source": [
    "def mock_get_contract(id: str) -> str:\n",
    "    if id == \"LEASE_AGREEMENT\":\n",
    "        return '''RESIDENTIAL LEASE AGREEMENT\n",
    "RENT. The Tenant shall pay to Landlord the sum of $1,500 per month (hereinafter referred to as \"Rent\") for the duration of the Term of the Lease. The Rent shall be payable on or before every day of the month (hereinafter referred to as the \"Due Date\"), notwithstanding that the said date falls on a weekend or holiday.\n",
    "A. Late Rent. If Rent is not paid within days of the Due Date, the Rent shall be considered past due, and a late fee of a $50 or 5% of the Rent past due shall be applied for every day Rent is late or O occurrence Rent is late.\n",
    "B. Returned Checks. In the event that a check intended as payment for Rent is dishonored for whatever reason, the same shall be considered as Late Rent with the late fee being payable on the same.'''\n",
    "    return \"\""
   ]
  },
  {
   "cell_type": "code",
   "execution_count": 3,
   "metadata": {},
   "outputs": [],
   "source": [
    "# get a contract\n",
    "contract = mock_get_contract(\"LEASE_AGREEMENT\")\n",
    "\n",
    "# print(contract)\n",
    "# Create a semantic kernel inline function\n",
    "analysis_template = \"\"\"System:\n",
    "You are an agent that can help summarize and analyze contracts for risk. Be professional and courteous.\n",
    "\n",
    "User:\n",
    "For the following text, summarize and list risks. \\n{{input}}\n",
    "\n",
    "Output format:\n",
    "Summary: \n",
    "\"\"\n",
    "\n",
    "Risks: \n",
    "-||-\n",
    "\n",
    "\"\"\""
   ]
  },
  {
   "cell_type": "code",
   "execution_count": 4,
   "metadata": {},
   "outputs": [
    {
     "name": "stdout",
     "output_type": "stream",
     "text": [
      "System:\n",
      "You are an agent that can help summarize and analyze contracts for risk. Be professional and courteous.\n",
      "\n",
      "User:\n",
      "For the following text, summarize and list risks. \n",
      "RESIDENTIAL LEASE AGREEMENT\n",
      "RENT. The Tenant shall pay to Landlord the sum of $1,500 per month (hereinafter referred to as \"Rent\") for the duration of the Term of the Lease. The Rent shall be payable on or before every day of the month (hereinafter referred to as the \"Due Date\"), notwithstanding that the said date falls on a weekend or holiday.\n",
      "A. Late Rent. If Rent is not paid within days of the Due Date, the Rent shall be considered past due, and a late fee of a $50 or 5% of the Rent past due shall be applied for every day Rent is late or O occurrence Rent is late.\n",
      "B. Returned Checks. In the event that a check intended as payment for Rent is dishonored for whatever reason, the same shall be considered as Late Rent with the late fee being payable on the same.\n",
      "\n",
      "Output format:\n",
      "Summary: \n",
      "\"\"\n",
      "\n",
      "Risks: \n",
      "-||-\n",
      "\n",
      "Summary: This is a residential lease agreement that requires the tenant to pay $1,500 per month on or before the due date.\n",
      "\n",
      "Risks:\n",
      "- Late Rent: If the tenant fails to pay rent within days of the due date, a late fee of $50 or 5% of the rent past due will be applied for every day the rent is late.\n",
      "- Returned Checks: If a check intended as payment for rent is dishonored, it will be considered as late rent and the late fee will be payable on the same.\n"
     ]
    }
   ],
   "source": [
    "# Execute the function\n",
    "template = common.render_template(analysis_template, input=contract)\n",
    "print(template)\n",
    "print(common.Call_OpenAI(client,common.gpt_api_deployment,template,max_tokens=300))"
   ]
  }
 ],
 "metadata": {
  "kernelspec": {
   "display_name": ".venv",
   "language": "python",
   "name": "python3"
  },
  "language_info": {
   "codemirror_mode": {
    "name": "ipython",
    "version": 3
   },
   "file_extension": ".py",
   "mimetype": "text/x-python",
   "name": "python",
   "nbconvert_exporter": "python",
   "pygments_lexer": "ipython3",
   "version": "3.11.8"
  },
  "orig_nbformat": 4
 },
 "nbformat": 4,
 "nbformat_minor": 2
}
