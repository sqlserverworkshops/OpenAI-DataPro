{
 "cells": [
  {
   "cell_type": "code",
   "execution_count": 10,
   "metadata": {},
   "outputs": [
    {
     "name": "stdout",
     "output_type": "stream",
     "text": [
      "https://nodestream-aistudio.openai.azure.com\n"
     ]
    }
   ],
   "source": [
    "import common\n",
    "\n",
    "# Get a configured model\n",
    "client = common.get_openai_client(api_key=common.api_KEY,\n",
    "        api_version=\"2023-12-01-preview\",\n",
    "        azure_endpoint=common.api_URI)\n",
    "\n",
    "# print(common.api_KEY)\n",
    "print(common.api_URI)"
   ]
  },
  {
   "cell_type": "code",
   "execution_count": 11,
   "metadata": {},
   "outputs": [
    {
     "name": "stdout",
     "output_type": "stream",
     "text": [
      "Mammals:\n",
      "- Dog\n",
      "- Cat\n",
      "- Elephant\n",
      "- Dolphin\n",
      "- Whale\n",
      "\n",
      "Fish:\n",
      "- Shark\n",
      "\n",
      "Reptiles:\n",
      "- Snake\n"
     ]
    }
   ],
   "source": [
    "prompt_template = \"\"\"For the following list of animals:\n",
    "\n",
    "- Dog\n",
    "- Cat\n",
    "- Elephant\n",
    "- Dolphin\n",
    "- Shark\n",
    "- Whale\n",
    "- Snake\n",
    "\n",
    "Can you classify and list by animal type?\n",
    "\"\"\"\n",
    "\n",
    "result = common.Call_OpenAI(client,common.gpt_api_deployment,prompt_template)\n",
    "\n",
    "print(result)"
   ]
  }
 ],
 "metadata": {
  "kernelspec": {
   "display_name": ".venv",
   "language": "python",
   "name": "python3"
  },
  "language_info": {
   "codemirror_mode": {
    "name": "ipython",
    "version": 3
   },
   "file_extension": ".py",
   "mimetype": "text/x-python",
   "name": "python",
   "nbconvert_exporter": "python",
   "pygments_lexer": "ipython3",
   "version": "3.11.8"
  },
  "orig_nbformat": 4
 },
 "nbformat": 4,
 "nbformat_minor": 2
}
